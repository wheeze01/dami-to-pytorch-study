{
 "cells": [
  {
   "cell_type": "code",
   "execution_count": 1,
   "metadata": {},
   "outputs": [],
   "source": [
    "## 신경망 모델 구성하기\n",
    "# 1. 신경망은 데이터에 대한 연산을 수행하는 계층(layer)/모듈(module)로 구성되어 있습니다.\n",
    "# 2. torch.nn 네임스페이스는 신경망을 구성하는데 필요한 모든 구성 요소를 제공합니다.\n",
    "# 3. PyTorch의 모든 모듈은 nn.Module 의 하위 클래스(subclass) 입니다.\n",
    "# 4. 신경망은 다른 모듈(계층; layer)로 구성된 모듈입니다.\n",
    "# 5. 이러한 중첩된 구조는 복잡한 아키텍처를 쉽게 구축하고 관리할 수 있습니다.\n",
    "\n",
    "import os\n",
    "import torch\n",
    "from torch import nn\n",
    "from torch.utils.data import DataLoader\n",
    "from torchvision import datasets, transforms"
   ]
  },
  {
   "cell_type": "code",
   "execution_count": 2,
   "metadata": {},
   "outputs": [
    {
     "name": "stdout",
     "output_type": "stream",
     "text": [
      "Using cpu device\n"
     ]
    }
   ],
   "source": [
    "## 학습을 위한 장치 얻기\n",
    "# 가능한 경우 GPU 또는 MPS와 같은 하드웨어 가속기에서 모델을 학습하려고 합니다. torch.cuda 또는 torch.backends.mps 가 사용 가능한지 확인해보고,\n",
    "# 그렇지 않으면 CPU를 계속 사용합니다.\n",
    "\n",
    "device = (\n",
    "    \"cuda\"\n",
    "    if torch.cuda.is_available()\n",
    "    else \"mps\"\n",
    "    if torch.backends.mps.is_available()\n",
    "    else \"cpu\"\n",
    ")\n",
    "print(f\"Using {device} device\")"
   ]
  },
  {
   "cell_type": "code",
   "execution_count": null,
   "metadata": {},
   "outputs": [
    {
     "name": "stdout",
     "output_type": "stream",
     "text": [
      "NeuralNetwork(\n",
      "  (flatten): Flatten(start_dim=1, end_dim=-1)\n",
      "  (linear_relu_stack): Sequential(\n",
      "    (0): Linear(in_features=784, out_features=512, bias=True)\n",
      "    (1): ReLU()\n",
      "    (2): Linear(in_features=512, out_features=512, bias=True)\n",
      "    (3): ReLU()\n",
      "    (4): Linear(in_features=512, out_features=10, bias=True)\n",
      "  )\n",
      ")\n"
     ]
    }
   ],
   "source": [
    "## 클래스 정의하기\n",
    "# 신경망 모델을 nn.Module 의 하위클래스로 정의하고, __init__ 에서 신경망 계층들을 초기화합니다.\n",
    "# nn.Module 을 상속받은 모든 클래스는 forward 메소드에 입력 데이터에 대한 연산들을 구현합니다.\n",
    "\n",
    "class NeuralNetwork(nn.Module):\n",
    "    def __init__(self):\n",
    "        super().__init__()\n",
    "        self.flatten = nn.Flatten()\n",
    "        self.linear_relu_stack = nn.Sequential(\n",
    "            nn.Linear(28*28, 512),\n",
    "            nn.ReLU(),\n",
    "            nn.Linear(512, 512),\n",
    "            nn.ReLU(),\n",
    "            nn.Linear(512, 10),\n",
    "        )\n",
    "\n",
    "    def forward(self, x):\n",
    "        x = self.flatten(x)\n",
    "        logits = self.linear_relu_stack(x)\n",
    "        return logits\n",
    "\n",
    "# NeuralNetwork 의 인스턴스(instance)를 생성하고 이를 device 로 이동한 뒤, 구조(structure)를 출력합니다.\n",
    "model = NeuralNetwork().to(device)\n",
    "print(model)"
   ]
  },
  {
   "cell_type": "code",
   "execution_count": null,
   "metadata": {},
   "outputs": [
    {
     "name": "stdout",
     "output_type": "stream",
     "text": [
      "Predicted class: tensor([6])\n"
     ]
    }
   ],
   "source": [
    "# 모델을 사용하기 위해 입력 데이터를 전달합니다. 이는 일부 백그라운드 연산들 과 함께 모델의 forward 를 실행합니다.\n",
    "# model.forward() 를 직접 호출하지 마세요!\n",
    "\n",
    "#모델에 입력을 전달하여 호출하면 2차원 텐서를 반환합니다.\n",
    "# 2차원 텐서의 dim=0은 각 분류(class)에 대한 원시(raw) 예측값 10개가, dim=1에는 각 출력의 개별 값들이 해당합니다.\n",
    "# 원시 예측값을 nn.Softmax 모듈의 인스턴스에 통과시켜 예측 확률을 얻습니다.\n",
    "\n",
    "X = torch.rand(1, 28, 28, device=device)    # 입력 데이터 생성(1개의 28x28 크기 이미지를 랜덤으로 생성)\n",
    "logits = model(X)                           # model의 forward(x)를 실행, 원시(raw) 예측값인 logits를 반환\n",
    "pred_probab = nn.Softmax(dim=1)(logits)     # 클래스 차원에서(dim=1) logits를 확률 분포로 변환\n",
    "y_pred = pred_probab.argmax(1)              # 확률이 가장 높은 클래스 반환\n",
    "print(f\"Predicted class: {y_pred}\")"
   ]
  },
  {
   "cell_type": "code",
   "execution_count": 18,
   "metadata": {},
   "outputs": [
    {
     "name": "stdout",
     "output_type": "stream",
     "text": [
      "torch.Size([3, 28, 28])\n"
     ]
    }
   ],
   "source": [
    "## 모델 계층(Layer)\n",
    "# FashionMNIST 모델의 계층들을 살펴보겠습니다.\n",
    "# 이를 설명하기 위해, 28x28 크기의 이미지 3개로 구성된 미니배치를 가져와, 신경망을 통과할 때 어떤 일이 발생하는지 알아보겠습니다.\n",
    "\n",
    "input_image = torch.rand(3,28,28)\n",
    "print(input_image.size())"
   ]
  },
  {
   "cell_type": "code",
   "execution_count": null,
   "metadata": {},
   "outputs": [
    {
     "name": "stdout",
     "output_type": "stream",
     "text": [
      "torch.Size([3, 784])\n"
     ]
    }
   ],
   "source": [
    "# nn.Flatten\n",
    "# nn.Flatten 계층을 초기화하여 각 28x28의 2D 이미지를 784 픽셀 값을 갖는 연속된 배열로 변환합니다. (dim=0의 미니배치 차원은 유지됩니다.)\n",
    "\n",
    "flatten = nn.Flatten()\n",
    "flat_image = flatten(input_image)\n",
    "print(flat_image.size())"
   ]
  },
  {
   "cell_type": "code",
   "execution_count": null,
   "metadata": {},
   "outputs": [
    {
     "name": "stdout",
     "output_type": "stream",
     "text": [
      "torch.Size([3, 20])\n"
     ]
    }
   ],
   "source": [
    "# nn.linear\n",
    "# 선형 계층은 저장된 가중치(weight)와 편향(bias)을 사용하여 입력에 선형 변환(linear transformation)을 적용하는 모듈입니다.\n",
    "\n",
    "layer1 = nn.Linear(in_features=28*28, out_features=20)  # 입력 벡터의 크기를 28*28으로, 출력 벡터의 크기를 20으로 설정합니다.\n",
    "hidden1 = layer1(flat_image)        # 각 입력 벡터를 20차원 벡터로 변경\n",
    "print(hidden1.size())"
   ]
  },
  {
   "cell_type": "code",
   "execution_count": null,
   "metadata": {},
   "outputs": [
    {
     "name": "stdout",
     "output_type": "stream",
     "text": [
      "Before ReLU: tensor([[ 0.1896, -0.4543,  0.3334,  0.5682, -0.0050,  0.1514, -0.4666,  0.1331,\n",
      "         -0.0821, -0.2390, -0.1773, -0.2255, -0.0236, -0.0083,  0.2744,  0.5568,\n",
      "          0.6115, -0.2895, -0.0183,  0.2504],\n",
      "        [ 0.6652,  0.0526,  0.4501,  0.4516,  0.0372,  0.2817, -0.3928,  0.1676,\n",
      "          0.0541, -0.2869, -0.6792, -0.5589,  0.1480,  0.4636,  0.4118,  0.7535,\n",
      "          0.6461, -0.0428,  0.0179,  0.0387],\n",
      "        [ 0.2773, -0.2546,  0.4989,  0.2684, -0.4467,  0.0404, -0.0367,  0.4330,\n",
      "         -0.1086, -0.1549, -0.0461, -0.1952, -0.1886,  0.0115, -0.1385,  0.7702,\n",
      "          0.9015, -0.2965,  0.1282,  0.0318]], grad_fn=<AddmmBackward0>)\n",
      "\n",
      "\n",
      "After ReLU: tensor([[0.1896, 0.0000, 0.3334, 0.5682, 0.0000, 0.1514, 0.0000, 0.1331, 0.0000,\n",
      "         0.0000, 0.0000, 0.0000, 0.0000, 0.0000, 0.2744, 0.5568, 0.6115, 0.0000,\n",
      "         0.0000, 0.2504],\n",
      "        [0.6652, 0.0526, 0.4501, 0.4516, 0.0372, 0.2817, 0.0000, 0.1676, 0.0541,\n",
      "         0.0000, 0.0000, 0.0000, 0.1480, 0.4636, 0.4118, 0.7535, 0.6461, 0.0000,\n",
      "         0.0179, 0.0387],\n",
      "        [0.2773, 0.0000, 0.4989, 0.2684, 0.0000, 0.0404, 0.0000, 0.4330, 0.0000,\n",
      "         0.0000, 0.0000, 0.0000, 0.0000, 0.0115, 0.0000, 0.7702, 0.9015, 0.0000,\n",
      "         0.1282, 0.0318]], grad_fn=<ReluBackward0>)\n"
     ]
    }
   ],
   "source": [
    "# nn.ReLU\n",
    "# 비선형 활성화(activation)는 모델의 입력과 출력 사이에 복잡한 관계(mapping)를 만듭니다.\n",
    "# 비선형 활성화는 선형 변환 후에 적용되어 비선형성(nonlinearity)을 도입하고, 신경망이 다양한 현상을 학습할 수 있도록 돕습니다.\n",
    "\n",
    "# 이 모델에서는 nn.ReLU 를 선형 계층들 사이에 사용하지만, 모델을 만들 때는 비선형성을 가진 다른 활성화를 도입할 수도 있습니다.\n",
    "\n",
    "print(f\"Before ReLU: {hidden1}\\n\\n\")\n",
    "hidden1 = nn.ReLU()(hidden1)            # 음수를 0으로 바꿈.\n",
    "print(f\"After ReLU: {hidden1}\")\n",
    "\n",
    "# Q. 왜 음수를 0으로 바꾸는가?\n",
    "# 1. 기울기 소실 : 음수 값은 다음 계층으로 전달되면 그라디언트(기울기)가 작거나 0에 가까워질 수 있다.\n",
    "# 2. ReLU는 음수를 0으로 변환하여 신경망의 일부 뉴런을 비활성화하지만, 이를 통해 양수 값에서 더 강한 그라디언트를 제공하여 학습을 가속화한다."
   ]
  },
  {
   "cell_type": "code",
   "execution_count": null,
   "metadata": {},
   "outputs": [],
   "source": []
  }
 ],
 "metadata": {
  "kernelspec": {
   "display_name": "base",
   "language": "python",
   "name": "python3"
  },
  "language_info": {
   "codemirror_mode": {
    "name": "ipython",
    "version": 3
   },
   "file_extension": ".py",
   "mimetype": "text/x-python",
   "name": "python",
   "nbconvert_exporter": "python",
   "pygments_lexer": "ipython3",
   "version": "3.12.4"
  }
 },
 "nbformat": 4,
 "nbformat_minor": 2
}
