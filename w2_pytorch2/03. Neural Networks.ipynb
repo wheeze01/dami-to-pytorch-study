{
 "cells": [
  {
   "cell_type": "code",
   "execution_count": 8,
   "metadata": {},
   "outputs": [
    {
     "name": "stdout",
     "output_type": "stream",
     "text": [
      "Net(\n",
      "  (conv1): Conv2d(1, 6, kernel_size=(5, 5), stride=(1, 1))\n",
      "  (conv2): Conv2d(6, 16, kernel_size=(5, 5), stride=(1, 1))\n",
      "  (fc1): Linear(in_features=400, out_features=120, bias=True)\n",
      "  (fc2): Linear(in_features=120, out_features=84, bias=True)\n",
      "  (fc3): Linear(in_features=84, out_features=10, bias=True)\n",
      ")\n"
     ]
    }
   ],
   "source": [
    "## 신경망 정의하기\n",
    "\n",
    "import torch\n",
    "import torch.nn as nn\n",
    "import torch.nn.functional as F\n",
    "\n",
    "\n",
    "class Net(nn.Module):\n",
    "\n",
    "    def __init__(self):\n",
    "        super(Net, self).__init__()\n",
    "        # 입력 이미지 채널 1개, 출력 채널 6개, 5x5의 정사각 컨볼루션 행렬\n",
    "        # 컨볼루션 커널 정의\n",
    "        self.conv1 = nn.Conv2d(1, 6, 5)     # 입력 채널: 1, 출력 채널: 6, 커널(합성곱 필터) 크기: 5x5\n",
    "        self.conv2 = nn.Conv2d(6, 16, 5)    # 입력 채널: 6, 출력 채널: 16, 커널 크기: 5x5\n",
    "        # 완전 연결 레이어 (Affine 연산). 아핀(affine) 연산: y = Wx + b\n",
    "        self.fc1 = nn.Linear(16 * 5 * 5, 120)   # 5*5은 이미지 차원에 해당. 입력 크기: 16x5x5, 출력 크기: 120\n",
    "        self.fc2 = nn.Linear(120, 84)           # 입력 크기: 120, 출력 크기: 84\n",
    "        self.fc3 = nn.Linear(84, 10)            # 입력 크기: 84, 출력 크기: 10\n",
    "\n",
    "    def forward(self, input):\n",
    "        # 합성곱(Convolution) 레이어 c1: 입력 이미지 채널 1, 출력 채널 6,\n",
    "        # 5x5 정사각 합성곱, 활성 함수로 RELU 사용 및 (N, 6, 28, 28)의 크기를 갖는 Tensor를 출력 (N은 배치 크기)\n",
    "        c1 = F.relu(self.conv1(input))\n",
    "        # 서브샘플링(Subsampling) 레이어 s2: 2x2 격자, 순전히 기능적인 레이어로,\n",
    "        # 이 레이어는 어떠한 매개변수도 가지지 않고 (N, 6, 14, 14) Tensor를 출력\n",
    "        s2 = F.max_pool2d(c1, (2, 2))\n",
    "        # 합성곱(Convolution) 레이어 c3: 입력 채널 6, 출력 채널 16,\n",
    "        # 5x5 정사각 합성곱, 활성 함수로 RELU 사용 및 (N, 16, 10, 10)의 크기를\n",
    "        # 갖는 Tensor를 출력\n",
    "        c3 = F.relu(self.conv2(s2))\n",
    "        # 서브샘플링(Subsampling) 레이어 s4: 2x2 격자, 순전히 기능적인 레이어로,\n",
    "        # 이 레이어는 어떠한 매개변수도 가지지 않고 (N, 16, 5, 5) Tensor를 출력\n",
    "        s4 = F.max_pool2d(c3, 2)\n",
    "        # 평탄화(flatten) 연산: 순전히 기능적으로 동작하며, (N, 400) Tensor를 출력\n",
    "        s4 = torch.flatten(s4, 1)\n",
    "        # 완전히 연결된 레이어 f5: (N, 400) Tensor를 입력으로 받아서\n",
    "        # (N, 120) Tensor를 출력하며, 활성 함수로 RELU 사용\n",
    "        f5 = F.relu(self.fc1(s4))\n",
    "        # 완전히 연결된 레이어 f6: (N, 120) Tensor를 입력으로 받아서\n",
    "        # (N, 84) Tensor를 출력하며, 활성 함수로 RELU 사용\n",
    "        f6 = F.relu(self.fc2(f5))\n",
    "        # 가우시안 레이어 출력: (N, 84) Tensor를 입력으로 받아서\n",
    "        # (N, 10) Tensor를 출력\n",
    "        output = self.fc3(f6)\n",
    "        return output\n",
    "\n",
    "    def forward(self, x):\n",
    "        # (2, 2) 크기 윈도우에 대해 맥스 풀링(max pooling)\n",
    "        x = F.max_pool2d(F.relu(self.conv1(x)), (2, 2))\n",
    "        # 크기가 제곱수라면, 하나의 숫자만을 특정(specify)\n",
    "        x = F.max_pool2d(F.relu(self.conv2(x)), 2)\n",
    "        x = torch.flatten(x, 1) # 배치 차원을 제외한 모든 차원을 하나로 평탄화(flatten)\n",
    "        x = F.relu(self.fc1(x))\n",
    "        x = F.relu(self.fc2(x))\n",
    "        x = self.fc3(x)\n",
    "        return x\n",
    "\n",
    "\n",
    "net = Net()\n",
    "print(net)"
   ]
  },
  {
   "cell_type": "code",
   "execution_count": 9,
   "metadata": {},
   "outputs": [
    {
     "name": "stdout",
     "output_type": "stream",
     "text": [
      "10\n",
      "torch.Size([6, 1, 5, 5])\n"
     ]
    }
   ],
   "source": [
    "# forward 함수만 정의하고 나면, (변화도를 계산하는) backward 함수는 autograd 를 사용하여 자동으로 정의됩니다.\n",
    "# forward 함수에서는 어떠한 Tensor 연산을 사용해도 됩니다.\n",
    "\n",
    "# 모델의 학습 가능한 매개변수들은 net.parameters() 에 의해 반환됩니다.\n",
    "\n",
    "params = list(net.parameters())\n",
    "print(len(params))\n",
    "print(params[0].size())  # conv1의 .weight"
   ]
  },
  {
   "cell_type": "code",
   "execution_count": 10,
   "metadata": {},
   "outputs": [
    {
     "name": "stdout",
     "output_type": "stream",
     "text": [
      "tensor([[-0.1379, -0.1185,  0.0286, -0.0722, -0.0086, -0.0256,  0.0075, -0.0367,\n",
      "          0.0952,  0.0860]], grad_fn=<AddmmBackward0>)\n"
     ]
    }
   ],
   "source": [
    "# 임의의 32x32 입력값을 넣어보겠습니다.\n",
    "\n",
    "# 이 신경망(LeNet)의 예상되는 입력 크기는 32x32입니다. 이 신경망에 MNIST 데이터셋을 사용하기 위해서는, 데이터셋의 이미지 크기를 32x32로 변경해야 합니다.\n",
    "\n",
    "input = torch.randn(1, 1, 32, 32)\n",
    "out = net(input)\n",
    "print(out)"
   ]
  },
  {
   "cell_type": "code",
   "execution_count": 11,
   "metadata": {},
   "outputs": [],
   "source": [
    "# 모든 매개변수의 변화도 버퍼(gradient buffer)를 0으로 설정하고, 무작위 값으로 역전파를 합니다:\n",
    "\n",
    "net.zero_grad()\n",
    "out.backward(torch.randn(1, 10))"
   ]
  },
  {
   "cell_type": "code",
   "execution_count": 12,
   "metadata": {},
   "outputs": [
    {
     "name": "stdout",
     "output_type": "stream",
     "text": [
      "tensor(0.9836, grad_fn=<MseLossBackward0>)\n"
     ]
    }
   ],
   "source": [
    "## 손실 함수\n",
    "\n",
    "# 손실 함수는 (output, target)을 한 쌍(pair)의 입력으로 받아, 출력(output)이 정답(target)으로부터 얼마나 멀리 떨어져 있는지 추정하는 값을 계산합니다.\n",
    "# nn 패키지에는 여러가지의 손실 함수들 이 존재합니다. 간단한 손실 함수로는 출력과 대상간의 평균제곱오차(mean-squared error)를 계산하는 nn.MSEloss 가 있습니다.\n",
    "\n",
    "output = net(input)\n",
    "target = torch.randn(10)  # 예시를 위한 임의의 정답\n",
    "target = target.view(1, -1)  # 출력과 같은 shape로 만듦\n",
    "criterion = nn.MSELoss()\n",
    "\n",
    "loss = criterion(output, target)\n",
    "print(loss)"
   ]
  },
  {
   "cell_type": "code",
   "execution_count": 13,
   "metadata": {},
   "outputs": [
    {
     "name": "stdout",
     "output_type": "stream",
     "text": [
      "<MseLossBackward0 object at 0x000001F8ED1F2A10>\n",
      "<AddmmBackward0 object at 0x000001F8F88EFCD0>\n",
      "<AccumulateGrad object at 0x000001F8F88EFCD0>\n"
     ]
    }
   ],
   "source": [
    "# 이제 .grad_fn 속성을 사용하여 loss 를 역방향에서 따라가다 보면, 이러한 모습의 연산 그래프를 볼 수 있습니다:\n",
    "\n",
    "# input -> conv2d -> relu -> maxpool2d -> conv2d -> relu -> maxpool2d\n",
    "#       -> flatten -> linear -> relu -> linear -> relu -> linear\n",
    "#       -> MSELoss\n",
    "#       -> loss\n",
    "\n",
    "# 따라서 loss.backward() 를 실행할 때, 전체 그래프는 신경망의 매개변수에 대해 미분되며,\n",
    "# 그래프 내의 requires_grad=True 인 모든 Tensor는 변화도가 누적된 .grad Tensor를 갖게 됩니다.\n",
    "\n",
    "# 설명을 위해, 역전파의 몇 단계를 따라가 보겠습니다\n",
    "\n",
    "print(loss.grad_fn)  # MSELoss\n",
    "print(loss.grad_fn.next_functions[0][0])  # Linear\n",
    "print(loss.grad_fn.next_functions[0][0].next_functions[0][0])  # ReLU"
   ]
  },
  {
   "cell_type": "code",
   "execution_count": 14,
   "metadata": {},
   "outputs": [
    {
     "name": "stdout",
     "output_type": "stream",
     "text": [
      "conv1.bias.grad before backward\n",
      "None\n",
      "conv1.bias.grad after backward\n",
      "tensor([-0.0035,  0.0061, -0.0163,  0.0210,  0.0323,  0.0021])\n"
     ]
    }
   ],
   "source": [
    "## 역전파(Backprop)\n",
    "\n",
    "# 오차(error)를 역전파하기 위해서는 loss.backward() 만 해주면 됩니다.\n",
    "# 기존에 계산된 변화도의 값을 누적 시키고 싶지 않다면 기존에 계산된 변화도를 0으로 만드는 작업이 필요합니다.\n",
    "\n",
    "# 이제 loss.backward() 를 호출하여 역전파 전과 후에 conv1의 bias 변수의 변화도를 살펴보겠습니다.\n",
    "\n",
    "net.zero_grad()     # 모든 매개변수의 변화도 버퍼를 0으로 만듦\n",
    "\n",
    "print('conv1.bias.grad before backward')\n",
    "print(net.conv1.bias.grad)\n",
    "\n",
    "loss.backward()\n",
    "\n",
    "print('conv1.bias.grad after backward')\n",
    "print(net.conv1.bias.grad)"
   ]
  },
  {
   "cell_type": "code",
   "execution_count": 16,
   "metadata": {},
   "outputs": [],
   "source": [
    "## 가중치 갱신\n",
    "\n",
    "# 실제로 많이 사용되는 가장 단순한 갱신 규칙은 확률적 경사하강법(SGD; Stochastic Gradient Descent)입니다\n",
    "\n",
    "# 새로운 가중치 = 가중치 - 학습률 * 변화도\n",
    "# weight = weight - learning_rate * gradient\n",
    "\n",
    "learning_rate = 0.01\n",
    "for f in net.parameters():\n",
    "    f.data.sub_(f.grad.data * learning_rate)\n",
    "\n"
   ]
  },
  {
   "cell_type": "code",
   "execution_count": 17,
   "metadata": {},
   "outputs": [],
   "source": [
    "# 신경망을 구성할 때 SGD, Nesterov-SGD, Adam, RMSProp 등과 같은 다양한 갱신 규칙을 사용하고 싶을 수 있습니다.\n",
    "# 이를 위해서 torch.optim 라는 작은 패키지에 이러한 방법들을 모두 구현해두었습니다. 사용법은 매우 간단합니다\n",
    "\n",
    "import torch.optim as optim\n",
    "\n",
    "# Optimizer를 생성합니다.\n",
    "optimizer = optim.SGD(net.parameters(), lr=0.01)\n",
    "\n",
    "# 학습 과정(training loop)은 다음과 같습니다:\n",
    "optimizer.zero_grad()   # 변화도 버퍼를 0으로\n",
    "output = net(input)\n",
    "loss = criterion(output, target)\n",
    "loss.backward()\n",
    "optimizer.step()    # 업데이트 진행"
   ]
  }
 ],
 "metadata": {
  "kernelspec": {
   "display_name": "base",
   "language": "python",
   "name": "python3"
  },
  "language_info": {
   "codemirror_mode": {
    "name": "ipython",
    "version": 3
   },
   "file_extension": ".py",
   "mimetype": "text/x-python",
   "name": "python",
   "nbconvert_exporter": "python",
   "pygments_lexer": "ipython3",
   "version": "3.12.4"
  }
 },
 "nbformat": 4,
 "nbformat_minor": 2
}
